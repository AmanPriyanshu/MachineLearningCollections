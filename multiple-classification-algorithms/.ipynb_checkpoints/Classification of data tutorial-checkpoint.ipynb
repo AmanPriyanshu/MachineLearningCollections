{
 "cells": [
  {
   "cell_type": "markdown",
   "metadata": {},
   "source": [
    "# Classification of dummy data using various classifers"
   ]
  },
  {
   "cell_type": "markdown",
   "metadata": {},
   "source": [
    "### Import  necessary libraries"
   ]
  },
  {
   "cell_type": "code",
   "execution_count": 1,
   "metadata": {},
   "outputs": [],
   "source": [
    "import pandas as pd\n",
    "import numpy as np"
   ]
  },
  {
   "cell_type": "code",
   "execution_count": 2,
   "metadata": {},
   "outputs": [],
   "source": [
    "import matplotlib.pyplot as plt\n",
    "import seaborn as sns\n",
    "%matplotlib inline"
   ]
  },
  {
   "cell_type": "markdown",
   "metadata": {},
   "source": [
    "### Read Data"
   ]
  },
  {
   "cell_type": "code",
   "execution_count": 3,
   "metadata": {},
   "outputs": [],
   "source": [
    "train1 = pd.read_csv(\"train.csv\")"
   ]
  },
  {
   "cell_type": "code",
   "execution_count": 4,
   "metadata": {},
   "outputs": [
    {
     "data": {
      "text/plain": [
       "(220, 5)"
      ]
     },
     "execution_count": 4,
     "metadata": {},
     "output_type": "execute_result"
    }
   ],
   "source": [
    "train1.shape"
   ]
  },
  {
   "cell_type": "code",
   "execution_count": 5,
   "metadata": {},
   "outputs": [
    {
     "data": {
      "text/html": [
       "<div>\n",
       "<style scoped>\n",
       "    .dataframe tbody tr th:only-of-type {\n",
       "        vertical-align: middle;\n",
       "    }\n",
       "\n",
       "    .dataframe tbody tr th {\n",
       "        vertical-align: top;\n",
       "    }\n",
       "\n",
       "    .dataframe thead th {\n",
       "        text-align: right;\n",
       "    }\n",
       "</style>\n",
       "<table border=\"1\" class=\"dataframe\">\n",
       "  <thead>\n",
       "    <tr style=\"text-align: right;\">\n",
       "      <th></th>\n",
       "      <th>Number of soldiers</th>\n",
       "      <th>Number of tanks</th>\n",
       "      <th>Number of aircrafts</th>\n",
       "      <th>Victory Status</th>\n",
       "      <th>Id</th>\n",
       "    </tr>\n",
       "  </thead>\n",
       "  <tbody>\n",
       "    <tr>\n",
       "      <th>0</th>\n",
       "      <td>2100000</td>\n",
       "      <td>4480</td>\n",
       "      <td>70</td>\n",
       "      <td>1</td>\n",
       "      <td>0</td>\n",
       "    </tr>\n",
       "    <tr>\n",
       "      <th>1</th>\n",
       "      <td>2100000</td>\n",
       "      <td>4550</td>\n",
       "      <td>0</td>\n",
       "      <td>1</td>\n",
       "      <td>2</td>\n",
       "    </tr>\n",
       "    <tr>\n",
       "      <th>2</th>\n",
       "      <td>2170000</td>\n",
       "      <td>4130</td>\n",
       "      <td>140</td>\n",
       "      <td>1</td>\n",
       "      <td>3</td>\n",
       "    </tr>\n",
       "    <tr>\n",
       "      <th>3</th>\n",
       "      <td>2170000</td>\n",
       "      <td>4550</td>\n",
       "      <td>280</td>\n",
       "      <td>1</td>\n",
       "      <td>4</td>\n",
       "    </tr>\n",
       "    <tr>\n",
       "      <th>4</th>\n",
       "      <td>2310000</td>\n",
       "      <td>4060</td>\n",
       "      <td>700</td>\n",
       "      <td>1</td>\n",
       "      <td>5</td>\n",
       "    </tr>\n",
       "  </tbody>\n",
       "</table>\n",
       "</div>"
      ],
      "text/plain": [
       "   Number of soldiers  Number of tanks  Number of aircrafts  Victory Status  \\\n",
       "0             2100000             4480                   70               1   \n",
       "1             2100000             4550                    0               1   \n",
       "2             2170000             4130                  140               1   \n",
       "3             2170000             4550                  280               1   \n",
       "4             2310000             4060                  700               1   \n",
       "\n",
       "   Id  \n",
       "0   0  \n",
       "1   2  \n",
       "2   3  \n",
       "3   4  \n",
       "4   5  "
      ]
     },
     "execution_count": 5,
     "metadata": {},
     "output_type": "execute_result"
    }
   ],
   "source": [
    "train1.head()"
   ]
  },
  {
   "cell_type": "markdown",
   "metadata": {},
   "source": [
    "### Check for empty cells"
   ]
  },
  {
   "cell_type": "code",
   "execution_count": 6,
   "metadata": {},
   "outputs": [
    {
     "data": {
      "text/plain": [
       "Number of soldiers     0\n",
       "Number of tanks        0\n",
       "Number of aircrafts    0\n",
       "Victory Status         0\n",
       "Id                     0\n",
       "dtype: int64"
      ]
     },
     "execution_count": 6,
     "metadata": {},
     "output_type": "execute_result"
    }
   ],
   "source": [
    "train1.isnull().sum()"
   ]
  },
  {
   "cell_type": "markdown",
   "metadata": {},
   "source": [
    "### Plotting the Correlation Heat Map for visualization"
   ]
  },
  {
   "cell_type": "code",
   "execution_count": 7,
   "metadata": {},
   "outputs": [
    {
     "data": {
      "text/plain": [
       "<AxesSubplot:>"
      ]
     },
     "execution_count": 7,
     "metadata": {},
     "output_type": "execute_result"
    },
    {
     "data": {
      "image/png": "[encoded data removed]",
      "text/plain": [
       "<Figure size 720x720 with 2 Axes>"
      ]
     },
     "metadata": {
      "needs_background": "light"
     },
     "output_type": "display_data"
    }
   ],
   "source": [
    "%matplotlib inline\n",
    "plt.figure(figsize = (10,10))\n",
    "sns.heatmap(train1.corr(),annot=True , linewidths=.5)"
   ]
  },
  {
   "cell_type": "markdown",
   "metadata": {},
   "source": [
    "### Checking more information about the data"
   ]
  },
  {
   "cell_type": "code",
   "execution_count": 8,
   "metadata": {},
   "outputs": [
    {
     "data": {
      "text/html": [
       "<div>\n",
       "<style scoped>\n",
       "    .dataframe tbody tr th:only-of-type {\n",
       "        vertical-align: middle;\n",
       "    }\n",
       "\n",
       "    .dataframe tbody tr th {\n",
       "        vertical-align: top;\n",
       "    }\n",
       "\n",
       "    .dataframe thead th {\n",
       "        text-align: right;\n",
       "    }\n",
       "</style>\n",
       "<table border=\"1\" class=\"dataframe\">\n",
       "  <thead>\n",
       "    <tr style=\"text-align: right;\">\n",
       "      <th></th>\n",
       "      <th>Number of soldiers</th>\n",
       "      <th>Number of tanks</th>\n",
       "      <th>Number of aircrafts</th>\n",
       "      <th>Victory Status</th>\n",
       "      <th>Id</th>\n",
       "    </tr>\n",
       "  </thead>\n",
       "  <tbody>\n",
       "    <tr>\n",
       "      <th>count</th>\n",
       "      <td>2.200000e+02</td>\n",
       "      <td>220.000000</td>\n",
       "      <td>220.000000</td>\n",
       "      <td>220.000000</td>\n",
       "      <td>220.000000</td>\n",
       "    </tr>\n",
       "    <tr>\n",
       "      <th>mean</th>\n",
       "      <td>3.721773e+06</td>\n",
       "      <td>4392.181818</td>\n",
       "      <td>291.772727</td>\n",
       "      <td>1.272727</td>\n",
       "      <td>159.072727</td>\n",
       "    </tr>\n",
       "    <tr>\n",
       "      <th>std</th>\n",
       "      <td>7.308487e+05</td>\n",
       "      <td>223.459237</td>\n",
       "      <td>527.975407</td>\n",
       "      <td>0.446377</td>\n",
       "      <td>86.412487</td>\n",
       "    </tr>\n",
       "    <tr>\n",
       "      <th>min</th>\n",
       "      <td>2.100000e+06</td>\n",
       "      <td>4060.000000</td>\n",
       "      <td>0.000000</td>\n",
       "      <td>1.000000</td>\n",
       "      <td>0.000000</td>\n",
       "    </tr>\n",
       "    <tr>\n",
       "      <th>25%</th>\n",
       "      <td>3.150000e+06</td>\n",
       "      <td>4200.000000</td>\n",
       "      <td>0.000000</td>\n",
       "      <td>1.000000</td>\n",
       "      <td>86.750000</td>\n",
       "    </tr>\n",
       "    <tr>\n",
       "      <th>50%</th>\n",
       "      <td>3.710000e+06</td>\n",
       "      <td>4410.000000</td>\n",
       "      <td>70.000000</td>\n",
       "      <td>1.000000</td>\n",
       "      <td>162.000000</td>\n",
       "    </tr>\n",
       "    <tr>\n",
       "      <th>75%</th>\n",
       "      <td>4.270000e+06</td>\n",
       "      <td>4550.000000</td>\n",
       "      <td>350.000000</td>\n",
       "      <td>2.000000</td>\n",
       "      <td>233.250000</td>\n",
       "    </tr>\n",
       "    <tr>\n",
       "      <th>max</th>\n",
       "      <td>5.460000e+06</td>\n",
       "      <td>4830.000000</td>\n",
       "      <td>3640.000000</td>\n",
       "      <td>2.000000</td>\n",
       "      <td>304.000000</td>\n",
       "    </tr>\n",
       "  </tbody>\n",
       "</table>\n",
       "</div>"
      ],
      "text/plain": [
       "       Number of soldiers  Number of tanks  Number of aircrafts  \\\n",
       "count        2.200000e+02       220.000000           220.000000   \n",
       "mean         3.721773e+06      4392.181818           291.772727   \n",
       "std          7.308487e+05       223.459237           527.975407   \n",
       "min          2.100000e+06      4060.000000             0.000000   \n",
       "25%          3.150000e+06      4200.000000             0.000000   \n",
       "50%          3.710000e+06      4410.000000            70.000000   \n",
       "75%          4.270000e+06      4550.000000           350.000000   \n",
       "max          5.460000e+06      4830.000000          3640.000000   \n",
       "\n",
       "       Victory Status          Id  \n",
       "count      220.000000  220.000000  \n",
       "mean         1.272727  159.072727  \n",
       "std          0.446377   86.412487  \n",
       "min          1.000000    0.000000  \n",
       "25%          1.000000   86.750000  \n",
       "50%          1.000000  162.000000  \n",
       "75%          2.000000  233.250000  \n",
       "max          2.000000  304.000000  "
      ]
     },
     "execution_count": 8,
     "metadata": {},
     "output_type": "execute_result"
    }
   ],
   "source": [
    "train1.describe()"
   ]
  },
  {
   "cell_type": "code",
   "execution_count": 9,
   "metadata": {},
   "outputs": [
    {
     "data": {
      "text/html": [
       "<div>\n",
       "<style scoped>\n",
       "    .dataframe tbody tr th:only-of-type {\n",
       "        vertical-align: middle;\n",
       "    }\n",
       "\n",
       "    .dataframe tbody tr th {\n",
       "        vertical-align: top;\n",
       "    }\n",
       "\n",
       "    .dataframe thead th {\n",
       "        text-align: right;\n",
       "    }\n",
       "</style>\n",
       "<table border=\"1\" class=\"dataframe\">\n",
       "  <thead>\n",
       "    <tr style=\"text-align: right;\">\n",
       "      <th></th>\n",
       "      <th>Number of soldiers</th>\n",
       "      <th>Number of tanks</th>\n",
       "      <th>Number of aircrafts</th>\n",
       "      <th>Victory Status</th>\n",
       "      <th>Id</th>\n",
       "    </tr>\n",
       "  </thead>\n",
       "  <tbody>\n",
       "    <tr>\n",
       "      <th>Number of soldiers</th>\n",
       "      <td>1.000000</td>\n",
       "      <td>0.041843</td>\n",
       "      <td>-0.058171</td>\n",
       "      <td>0.049879</td>\n",
       "      <td>0.991331</td>\n",
       "    </tr>\n",
       "    <tr>\n",
       "      <th>Number of tanks</th>\n",
       "      <td>0.041843</td>\n",
       "      <td>1.000000</td>\n",
       "      <td>-0.026661</td>\n",
       "      <td>0.004078</td>\n",
       "      <td>0.039944</td>\n",
       "    </tr>\n",
       "    <tr>\n",
       "      <th>Number of aircrafts</th>\n",
       "      <td>-0.058171</td>\n",
       "      <td>-0.026661</td>\n",
       "      <td>1.000000</td>\n",
       "      <td>0.314525</td>\n",
       "      <td>-0.058490</td>\n",
       "    </tr>\n",
       "    <tr>\n",
       "      <th>Victory Status</th>\n",
       "      <td>0.049879</td>\n",
       "      <td>0.004078</td>\n",
       "      <td>0.314525</td>\n",
       "      <td>1.000000</td>\n",
       "      <td>0.017122</td>\n",
       "    </tr>\n",
       "    <tr>\n",
       "      <th>Id</th>\n",
       "      <td>0.991331</td>\n",
       "      <td>0.039944</td>\n",
       "      <td>-0.058490</td>\n",
       "      <td>0.017122</td>\n",
       "      <td>1.000000</td>\n",
       "    </tr>\n",
       "  </tbody>\n",
       "</table>\n",
       "</div>"
      ],
      "text/plain": [
       "                     Number of soldiers  Number of tanks  Number of aircrafts  \\\n",
       "Number of soldiers             1.000000         0.041843            -0.058171   \n",
       "Number of tanks                0.041843         1.000000            -0.026661   \n",
       "Number of aircrafts           -0.058171        -0.026661             1.000000   \n",
       "Victory Status                 0.049879         0.004078             0.314525   \n",
       "Id                             0.991331         0.039944            -0.058490   \n",
       "\n",
       "                     Victory Status        Id  \n",
       "Number of soldiers         0.049879  0.991331  \n",
       "Number of tanks            0.004078  0.039944  \n",
       "Number of aircrafts        0.314525 -0.058490  \n",
       "Victory Status             1.000000  0.017122  \n",
       "Id                         0.017122  1.000000  "
      ]
     },
     "execution_count": 9,
     "metadata": {},
     "output_type": "execute_result"
    }
   ],
   "source": [
    "train1.corr() #correlation in the dataset"
   ]
  },
  {
   "cell_type": "code",
   "execution_count": 10,
   "metadata": {},
   "outputs": [],
   "source": [
    "val1 = train1.drop(['Victory Status','Id','Number of tanks'],axis=1)\n",
    "#drop unnecessary columns "
   ]
  },
  {
   "cell_type": "markdown",
   "metadata": {},
   "source": [
    "### Import MinMaxScaler() from sklearn library for normalising the data"
   ]
  },
  {
   "cell_type": "code",
   "execution_count": 11,
   "metadata": {},
   "outputs": [],
   "source": [
    "from sklearn.preprocessing import MinMaxScaler\n",
    "mnmx = MinMaxScaler()"
   ]
  },
  {
   "cell_type": "markdown",
   "metadata": {},
   "source": [
    "### Classified Column"
   ]
  },
  {
   "cell_type": "code",
   "execution_count": 12,
   "metadata": {},
   "outputs": [],
   "source": [
    "val2 = train1['Victory Status']"
   ]
  },
  {
   "cell_type": "markdown",
   "metadata": {},
   "source": [
    "### Columns with the training parameters"
   ]
  },
  {
   "cell_type": "code",
   "execution_count": 13,
   "metadata": {},
   "outputs": [
    {
     "name": "stdout",
     "output_type": "stream",
     "text": [
      "       Number of soldiers  Number of aircrafts\n",
      "count          220.000000           220.000000\n",
      "mean             0.482670             0.080157\n",
      "std              0.217514             0.145048\n",
      "min              0.000000             0.000000\n",
      "25%              0.312500             0.000000\n",
      "50%              0.479167             0.019231\n",
      "75%              0.645833             0.096154\n",
      "max              1.000000             1.000000\n"
     ]
    }
   ],
   "source": [
    "df_numcols = pd.DataFrame(mnmx.fit_transform(val1.iloc[:]),\n",
    "columns = val1.iloc[:].columns.tolist())\n",
    "print(df_numcols.describe())"
   ]
  },
  {
   "cell_type": "markdown",
   "metadata": {},
   "source": [
    "### Import necessary components and split the dataset into train and test"
   ]
  },
  {
   "cell_type": "code",
   "execution_count": 14,
   "metadata": {},
   "outputs": [],
   "source": [
    "from sklearn.model_selection import train_test_split\n",
    "from sklearn.metrics import accuracy_score, precision_score"
   ]
  },
  {
   "cell_type": "code",
   "execution_count": 15,
   "metadata": {},
   "outputs": [],
   "source": [
    "X_train, X_test, y_train, y_test = train_test_split(df_numcols, \n",
    "                                                    val2,test_size=0.49,\n",
    "                                                    random_state=40) \n",
    "#df_numcols is the training prameters while val2 is the output for each"
   ]
  },
  {
   "cell_type": "markdown",
   "metadata": {},
   "source": [
    "### Using Logistic Regression for classification"
   ]
  },
  {
   "cell_type": "code",
   "execution_count": 16,
   "metadata": {},
   "outputs": [],
   "source": [
    "from sklearn.linear_model import LogisticRegression\n",
    "LR  = LogisticRegression()\n",
    "LR.fit(X_train,y_train)\n",
    "predictions= LR.predict(X_test)"
   ]
  },
  {
   "cell_type": "code",
   "execution_count": 17,
   "metadata": {},
   "outputs": [
    {
     "name": "stdout",
     "output_type": "stream",
     "text": [
      "Accuracy score:  0.8148148148148148\n",
      "Precision score:  0.8113207547169812\n"
     ]
    }
   ],
   "source": [
    "print('Accuracy score: ', format(accuracy_score(y_test, predictions)))\n",
    "print('Precision score: ', format(precision_score(y_test, predictions)))"
   ]
  },
  {
   "cell_type": "markdown",
   "metadata": {},
   "source": [
    "### Using Naive Bayes for classification"
   ]
  },
  {
   "cell_type": "code",
   "execution_count": 18,
   "metadata": {},
   "outputs": [],
   "source": [
    "from sklearn.naive_bayes import MultinomialNB\n",
    "NB = MultinomialNB()\n",
    "NB.fit(X_train,y_train)\n",
    "predictions= NB.predict(X_test)"
   ]
  },
  {
   "cell_type": "code",
   "execution_count": 19,
   "metadata": {},
   "outputs": [
    {
     "name": "stdout",
     "output_type": "stream",
     "text": [
      "Accuracy score:  0.7962962962962963\n",
      "Precision score:  0.7962962962962963\n"
     ]
    }
   ],
   "source": [
    "print('Accuracy score: ', format(accuracy_score(y_test, predictions)))\n",
    "print('Precision score: ', format(precision_score(y_test, predictions)))"
   ]
  },
  {
   "cell_type": "markdown",
   "metadata": {},
   "source": [
    "### Using SVM Classifier"
   ]
  },
  {
   "cell_type": "code",
   "execution_count": 20,
   "metadata": {},
   "outputs": [],
   "source": [
    "from sklearn import svm\n",
    "SVC_model = svm.SVC()\n",
    "SVC_model.fit(X_train, y_train)\n",
    "predictions = SVC_model.predict(X_test)"
   ]
  },
  {
   "cell_type": "code",
   "execution_count": 21,
   "metadata": {},
   "outputs": [
    {
     "name": "stdout",
     "output_type": "stream",
     "text": [
      "Accuracy score:  0.8148148148148148\n",
      "Precision score:  0.851063829787234\n"
     ]
    }
   ],
   "source": [
    "print('Accuracy score: ', format(accuracy_score(y_test, predictions)))\n",
    "print('Precision score: ', format(precision_score(y_test, predictions)))"
   ]
  },
  {
   "cell_type": "markdown",
   "metadata": {},
   "source": [
    "### Using Random Forest for classification"
   ]
  },
  {
   "cell_type": "code",
   "execution_count": 22,
   "metadata": {},
   "outputs": [],
   "source": [
    "from sklearn.ensemble import RandomForestClassifier\n",
    "clf = RandomForestClassifier(n_estimators = 1000) #n_estimators = number of trees in the forest\n",
    "clf.fit(X_train,y_train)\n",
    "predictions= clf.predict(X_test)"
   ]
  },
  {
   "cell_type": "code",
   "execution_count": 23,
   "metadata": {},
   "outputs": [
    {
     "name": "stdout",
     "output_type": "stream",
     "text": [
      "Accuracy score:  0.6851851851851852\n",
      "Precision score:  0.825\n"
     ]
    }
   ],
   "source": [
    "print('Accuracy score: ', format(accuracy_score(y_test, predictions)))\n",
    "print('Precision score: ', format(precision_score(y_test, predictions)))"
   ]
  }
 ],
 "metadata": {
  "kernelspec": {
   "display_name": "Python 3",
   "language": "python",
   "name": "python3"
  },
  "language_info": {
   "codemirror_mode": {
    "name": "ipython",
    "version": 3
   },
   "file_extension": ".py",
   "mimetype": "text/x-python",
   "name": "python",
   "nbconvert_exporter": "python",
   "pygments_lexer": "ipython3",
   "version": "3.8.5"
  }
 },
 "nbformat": 4,
 "nbformat_minor": 2
}
